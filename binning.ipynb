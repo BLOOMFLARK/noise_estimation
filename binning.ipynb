{
 "cells": [
  {
   "cell_type": "code",
   "execution_count": 1,
   "metadata": {},
   "outputs": [],
   "source": [
    "import cv2\n",
    "import matplotlib.pyplot as plt\n",
    "import numpy as np"
   ]
  },
  {
   "cell_type": "code",
   "execution_count": 2,
   "metadata": {},
   "outputs": [],
   "source": [
    "import noise_estimation as ne"
   ]
  },
  {
   "cell_type": "code",
   "execution_count": 3,
   "metadata": {},
   "outputs": [
    {
     "name": "stdout",
     "output_type": "stream",
     "text": [
      "eigens length 192\n",
      "eigens length 192\n",
      "BINNING:5.293695966533596e-09\n",
      "NOBINNING:6.507197076634901e-09\n"
     ]
    }
   ],
   "source": [
    "image1_b = cv2.imread('./2_1_crop/BHI3_2.49um_11x1_rec0480_crop.png')\n",
    "image1_b = ne.im2double(image1_b)\n",
    "image1 = cv2.imread('./8bpp_crop/BHI3_2.49um_11x1_rec0980_crop.png')\n",
    "image1 = ne.im2double(image1)\n",
    "\n",
    "print(\"BINNING:{}\\nNOBINNING:{}\".format(ne.noise_estimate(image1_b), ne.noise_estimate(image1)))"
   ]
  },
  {
   "cell_type": "code",
   "execution_count": 4,
   "metadata": {},
   "outputs": [
    {
     "name": "stdout",
     "output_type": "stream",
     "text": [
      "eigens length 192\n",
      "eigens length 192\n",
      "BINNING:5.293695966533596e-09\n",
      "NOBINNING:6.507197076634901e-09\n"
     ]
    }
   ],
   "source": [
    "image2_b = cv2.imread('./2_1_crop/BHI3_2.49um_1x1_rec0480_crop.png')\n",
    "image2_b = ne.im2double(image2_b)\n",
    "image2 = cv2.imread('./8bpp_crop/BHI3_2.49um_1x1_rec0980_crop.png')\n",
    "image2 = ne.im2double(image2)\n",
    "\n",
    "print(\"BINNING:{}\\nNOBINNING:{}\".format(ne.noise_estimate(image1_b), ne.noise_estimate(image1)))"
   ]
  },
  {
   "cell_type": "code",
   "execution_count": null,
   "metadata": {},
   "outputs": [],
   "source": []
  },
  {
   "cell_type": "code",
   "execution_count": null,
   "metadata": {},
   "outputs": [],
   "source": []
  },
  {
   "cell_type": "code",
   "execution_count": null,
   "metadata": {},
   "outputs": [],
   "source": []
  }
 ],
 "metadata": {
  "kernelspec": {
   "display_name": "Python 3",
   "language": "python",
   "name": "python3"
  },
  "language_info": {
   "codemirror_mode": {
    "name": "ipython",
    "version": 3
   },
   "file_extension": ".py",
   "mimetype": "text/x-python",
   "name": "python",
   "nbconvert_exporter": "python",
   "pygments_lexer": "ipython3",
   "version": "3.7.3"
  }
 },
 "nbformat": 4,
 "nbformat_minor": 2
}
